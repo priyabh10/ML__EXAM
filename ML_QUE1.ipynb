{
 "cells": [
  {
   "cell_type": "markdown",
   "id": "fb95335a",
   "metadata": {},
   "source": [
    "# QUE 1. Problem Statement 1:\n"
   ]
  },
  {
   "cell_type": "code",
   "execution_count": null,
   "id": "d3bf9fd9",
   "metadata": {},
   "outputs": [],
   "source": [
    "from sklearn import linear_model\n",
    "from sklearn.preprocessing import PolynomialFeatures\n",
    "import numpy as np\n"
   ]
  },
  {
   "cell_type": "code",
   "execution_count": null,
   "id": "2b3ba58b",
   "metadata": {},
   "outputs": [],
   "source": [
    "import numpy as np\n",
    "import pandas as pd\n",
    "import matplotlib.pyplot as plt"
   ]
  },
  {
   "cell_type": "code",
   "execution_count": null,
   "id": "a3525472",
   "metadata": {},
   "outputs": [],
   "source": [
    "dataset=pd.read_csv(r'C:\\Users\\priya\\Downloads\\data.csv')"
   ]
  },
  {
   "cell_type": "code",
   "execution_count": null,
   "id": "6525bd87",
   "metadata": {},
   "outputs": [],
   "source": [
    "dataset.head(10)"
   ]
  },
  {
   "cell_type": "code",
   "execution_count": null,
   "id": "d6de96bd",
   "metadata": {},
   "outputs": [],
   "source": [
    "dataset.describe()"
   ]
  },
  {
   "cell_type": "code",
   "execution_count": null,
   "id": "a8cc13d3",
   "metadata": {},
   "outputs": [],
   "source": [
    "dataset.isnull()"
   ]
  },
  {
   "cell_type": "code",
   "execution_count": null,
   "id": "1ad52ace",
   "metadata": {},
   "outputs": [],
   "source": [
    "dataset.shape"
   ]
  },
  {
   "cell_type": "code",
   "execution_count": null,
   "id": "ae33d849",
   "metadata": {},
   "outputs": [],
   "source": [
    "#Independent\n",
    "X=dataset.iloc[:,:-1].values\n",
    "\n",
    "#Dependent\n",
    "y=dataset.iloc[:,-1].values"
   ]
  },
  {
   "cell_type": "code",
   "execution_count": null,
   "id": "b33db60d",
   "metadata": {},
   "outputs": [],
   "source": [
    "X"
   ]
  },
  {
   "cell_type": "code",
   "execution_count": null,
   "id": "9d98c3c6",
   "metadata": {},
   "outputs": [],
   "source": [
    "y"
   ]
  },
  {
   "cell_type": "code",
   "execution_count": null,
   "id": "75c5f419",
   "metadata": {},
   "outputs": [],
   "source": [
    "import numpy as np\n",
    "import matplotlib.pyplot as plt\n",
    "%matplotlib inline"
   ]
  },
  {
   "cell_type": "code",
   "execution_count": null,
   "id": "f4fa418c",
   "metadata": {},
   "outputs": [],
   "source": [
    "#spliting data"
   ]
  },
  {
   "cell_type": "code",
   "execution_count": null,
   "id": "8609358f",
   "metadata": {},
   "outputs": [],
   "source": [
    "from sklearn.model_selection import train_test_split\n",
    "X_train, X_test, y_train,y_test =train_test_split(X,y,test_size=1/2, random_state=0)"
   ]
  },
  {
   "cell_type": "code",
   "execution_count": null,
   "id": "e572da7f",
   "metadata": {},
   "outputs": [],
   "source": [
    "X_train"
   ]
  },
  {
   "cell_type": "code",
   "execution_count": null,
   "id": "a9c2565f",
   "metadata": {},
   "outputs": [],
   "source": [
    "from sklearn.linear_model import LinearRegression\n",
    "lin_reg = LinearRegression()\n",
    "lin_reg.fit(X,y)"
   ]
  },
  {
   "cell_type": "code",
   "execution_count": null,
   "id": "682ea527",
   "metadata": {},
   "outputs": [],
   "source": [
    "from sklearn.preprocessing import PolynomialFeatures\n",
    "poly_reg = PolynomialFeatures(degree = 3)\n",
    "X_poly = poly_reg.fit_transform(X)\n",
    "lin_reg_2  = LinearRegression()\n",
    "lin_reg_2.fit(X_poly,y)"
   ]
  },
  {
   "cell_type": "code",
   "execution_count": null,
   "id": "75627f3f",
   "metadata": {},
   "outputs": [],
   "source": [
    "# Set data\n",
    "features, rows = map(int, input().split())\n",
    "X, Y = [], []"
   ]
  },
  {
   "cell_type": "code",
   "execution_count": null,
   "id": "82aa291f",
   "metadata": {},
   "outputs": [],
   "source": [
    "# Get the parameters X and Y for discovery the variables a and b\n",
    "for i in range(rows):\n",
    "    x = [0]\n",
    "    elements = list(map(float, input().split()))\n",
    "    for j in range(len(elements)):\n",
    "        if j < features:\n",
    "            x.append(elements[j])\n",
    "        else:\n",
    "            Y.append(elements[j])\n",
    "    X.append(x)"
   ]
  },
  {
   "cell_type": "code",
   "execution_count": null,
   "id": "83f16fee",
   "metadata": {},
   "outputs": [],
   "source": [
    "# Get the parameters X for discovery the Y\n",
    "new_rows = int(input())\n",
    "new_X = []\n",
    "for i in range(new_rows):\n",
    "    x = [0]\n",
    "    elements = list(map(float, input().split()))\n",
    "    for j in range(len(elements)):\n",
    "        x.append(elements[j])\n",
    "    new_X.append(x)\n"
   ]
  },
  {
   "cell_type": "code",
   "execution_count": null,
   "id": "36d4cdc6",
   "metadata": {},
   "outputs": [],
   "source": [
    "# Set the model LinearRegression\n",
    "model = lin_reg.LinearRegression()\n",
    "model.fit(poly.fit_transform(np.array(X)), Y)\n"
   ]
  },
  {
   "cell_type": "code",
   "execution_count": 2,
   "id": "29064593",
   "metadata": {},
   "outputs": [
    {
     "name": "stdout",
     "output_type": "stream",
     "text": [
      "1\n",
      "2\n"
     ]
    }
   ],
   "source": [
    "# Get the parameters X for discovery the Y\n",
    "new_rows = int(input())\n",
    "new_X = []\n",
    "for i in range(new_rows):\n",
    "    x = [0]\n",
    "    elements = list(map(float, input().split()))\n",
    "    for j in range(len(elements)):\n",
    "        x.append(elements[j])\n",
    "    new_X.append(x)"
   ]
  },
  {
   "cell_type": "markdown",
   "id": "824edf51",
   "metadata": {},
   "source": [
    "### Visualising the results"
   ]
  },
  {
   "cell_type": "code",
   "execution_count": 3,
   "id": "e8f0caf0",
   "metadata": {},
   "outputs": [
    {
     "ename": "NameError",
     "evalue": "name 'model' is not defined",
     "output_type": "error",
     "traceback": [
      "\u001b[1;31m---------------------------------------------------------------------------\u001b[0m",
      "\u001b[1;31mNameError\u001b[0m                                 Traceback (most recent call last)",
      "\u001b[1;32m~\\AppData\\Local\\Temp/ipykernel_38220/1748827093.py\u001b[0m in \u001b[0;36m<module>\u001b[1;34m\u001b[0m\n\u001b[0;32m      1\u001b[0m \u001b[1;31m#result\u001b[0m\u001b[1;33m\u001b[0m\u001b[1;33m\u001b[0m\u001b[0m\n\u001b[1;32m----> 2\u001b[1;33m \u001b[0mresult\u001b[0m \u001b[1;33m=\u001b[0m \u001b[0mmodel\u001b[0m\u001b[1;33m.\u001b[0m\u001b[0mpredict\u001b[0m\u001b[1;33m(\u001b[0m\u001b[0mpoly\u001b[0m\u001b[1;33m.\u001b[0m\u001b[0mfit_transform\u001b[0m\u001b[1;33m(\u001b[0m\u001b[0mnp\u001b[0m\u001b[1;33m.\u001b[0m\u001b[0marray\u001b[0m\u001b[1;33m(\u001b[0m\u001b[0mnew_X\u001b[0m\u001b[1;33m)\u001b[0m\u001b[1;33m)\u001b[0m\u001b[1;33m)\u001b[0m\u001b[1;33m\u001b[0m\u001b[1;33m\u001b[0m\u001b[0m\n\u001b[0m\u001b[0;32m      3\u001b[0m \u001b[1;32mfor\u001b[0m \u001b[0mi\u001b[0m \u001b[1;32min\u001b[0m \u001b[0mrange\u001b[0m\u001b[1;33m(\u001b[0m\u001b[0mlen\u001b[0m\u001b[1;33m(\u001b[0m\u001b[0mresult\u001b[0m\u001b[1;33m)\u001b[0m\u001b[1;33m)\u001b[0m\u001b[1;33m:\u001b[0m\u001b[1;33m\u001b[0m\u001b[1;33m\u001b[0m\u001b[0m\n\u001b[0;32m      4\u001b[0m     \u001b[0mprint\u001b[0m\u001b[1;33m(\u001b[0m\u001b[0mround\u001b[0m\u001b[1;33m(\u001b[0m\u001b[0mresult\u001b[0m\u001b[1;33m[\u001b[0m\u001b[0mi\u001b[0m\u001b[1;33m]\u001b[0m\u001b[1;33m,\u001b[0m\u001b[1;36m2\u001b[0m\u001b[1;33m)\u001b[0m\u001b[1;33m)\u001b[0m\u001b[1;33m\u001b[0m\u001b[1;33m\u001b[0m\u001b[0m\n",
      "\u001b[1;31mNameError\u001b[0m: name 'model' is not defined"
     ]
    }
   ],
   "source": [
    "#result\n",
    "result = model.predict(poly.fit_transform(np.array(new_X)))\n",
    "for i in range(len(result)):\n",
    "    print(round(result[i],2))"
   ]
  },
  {
   "cell_type": "markdown",
   "id": "e652cd6f",
   "metadata": {},
   "source": [
    "# CONCLUSION\n"
   ]
  },
  {
   "cell_type": "code",
   "execution_count": null,
   "id": "e161b738",
   "metadata": {},
   "outputs": [],
   "source": [
    "#IN this example we will use polynomial regression as  At this point we are not expected to account for bias and variance trade-offs."
   ]
  },
  {
   "cell_type": "code",
   "execution_count": null,
   "id": "44939739",
   "metadata": {},
   "outputs": [],
   "source": [
    "#For each test in a test case file we will compute the following:\n",
    "1.actual value \n",
    "2.predicted value"
   ]
  }
 ],
 "metadata": {
  "kernelspec": {
   "display_name": "Python 3 (ipykernel)",
   "language": "python",
   "name": "python3"
  },
  "language_info": {
   "codemirror_mode": {
    "name": "ipython",
    "version": 3
   },
   "file_extension": ".py",
   "mimetype": "text/x-python",
   "name": "python",
   "nbconvert_exporter": "python",
   "pygments_lexer": "ipython3",
   "version": "3.9.7"
  }
 },
 "nbformat": 4,
 "nbformat_minor": 5
}
