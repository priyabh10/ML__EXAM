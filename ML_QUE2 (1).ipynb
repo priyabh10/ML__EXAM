{
 "cells": [
  {
   "cell_type": "markdown",
   "id": "27d66b46",
   "metadata": {},
   "source": [
    "# QUE2. PROBLEM STATEMENT 2"
   ]
  },
  {
   "cell_type": "code",
   "execution_count": 1,
   "id": "c8d0aac4",
   "metadata": {},
   "outputs": [],
   "source": [
    "import numpy as np\n",
    "import pandas as pd"
   ]
  },
  {
   "cell_type": "code",
   "execution_count": 2,
   "id": "c0a61862",
   "metadata": {
    "scrolled": true
   },
   "outputs": [],
   "source": [
    "data=pd.read_csv(r'C:\\Users\\priya\\Downloads\\Customer Data.csv')"
   ]
  },
  {
   "cell_type": "code",
   "execution_count": 3,
   "id": "b27c3621",
   "metadata": {},
   "outputs": [
    {
     "data": {
      "text/html": [
       "<div>\n",
       "<style scoped>\n",
       "    .dataframe tbody tr th:only-of-type {\n",
       "        vertical-align: middle;\n",
       "    }\n",
       "\n",
       "    .dataframe tbody tr th {\n",
       "        vertical-align: top;\n",
       "    }\n",
       "\n",
       "    .dataframe thead th {\n",
       "        text-align: right;\n",
       "    }\n",
       "</style>\n",
       "<table border=\"1\" class=\"dataframe\">\n",
       "  <thead>\n",
       "    <tr style=\"text-align: right;\">\n",
       "      <th></th>\n",
       "      <th>ID</th>\n",
       "      <th>Age</th>\n",
       "      <th>Income</th>\n",
       "      <th>Gender</th>\n",
       "      <th>Marital Status</th>\n",
       "      <th>Buys</th>\n",
       "    </tr>\n",
       "  </thead>\n",
       "  <tbody>\n",
       "    <tr>\n",
       "      <th>0</th>\n",
       "      <td>1</td>\n",
       "      <td>&lt;21</td>\n",
       "      <td>High</td>\n",
       "      <td>Male</td>\n",
       "      <td>Single</td>\n",
       "      <td>No</td>\n",
       "    </tr>\n",
       "    <tr>\n",
       "      <th>1</th>\n",
       "      <td>2</td>\n",
       "      <td>&lt;21</td>\n",
       "      <td>High</td>\n",
       "      <td>Male</td>\n",
       "      <td>Married</td>\n",
       "      <td>No</td>\n",
       "    </tr>\n",
       "    <tr>\n",
       "      <th>2</th>\n",
       "      <td>3</td>\n",
       "      <td>21-35</td>\n",
       "      <td>High</td>\n",
       "      <td>Male</td>\n",
       "      <td>Single</td>\n",
       "      <td>Yes</td>\n",
       "    </tr>\n",
       "    <tr>\n",
       "      <th>3</th>\n",
       "      <td>4</td>\n",
       "      <td>&gt;35</td>\n",
       "      <td>Medium</td>\n",
       "      <td>Male</td>\n",
       "      <td>Single</td>\n",
       "      <td>Yes</td>\n",
       "    </tr>\n",
       "    <tr>\n",
       "      <th>4</th>\n",
       "      <td>5</td>\n",
       "      <td>&gt;35</td>\n",
       "      <td>Low</td>\n",
       "      <td>Female</td>\n",
       "      <td>Single</td>\n",
       "      <td>Yes</td>\n",
       "    </tr>\n",
       "    <tr>\n",
       "      <th>5</th>\n",
       "      <td>6</td>\n",
       "      <td>&gt;35</td>\n",
       "      <td>Low</td>\n",
       "      <td>Female</td>\n",
       "      <td>Married</td>\n",
       "      <td>No</td>\n",
       "    </tr>\n",
       "    <tr>\n",
       "      <th>6</th>\n",
       "      <td>7</td>\n",
       "      <td>21-35</td>\n",
       "      <td>Low</td>\n",
       "      <td>Female</td>\n",
       "      <td>Married</td>\n",
       "      <td>Yes</td>\n",
       "    </tr>\n",
       "    <tr>\n",
       "      <th>7</th>\n",
       "      <td>8</td>\n",
       "      <td>&lt;21</td>\n",
       "      <td>Medium</td>\n",
       "      <td>Male</td>\n",
       "      <td>Single</td>\n",
       "      <td>No</td>\n",
       "    </tr>\n",
       "    <tr>\n",
       "      <th>8</th>\n",
       "      <td>9</td>\n",
       "      <td>&lt;21</td>\n",
       "      <td>Low</td>\n",
       "      <td>Female</td>\n",
       "      <td>Married</td>\n",
       "      <td>Yes</td>\n",
       "    </tr>\n",
       "    <tr>\n",
       "      <th>9</th>\n",
       "      <td>10</td>\n",
       "      <td>&gt;35</td>\n",
       "      <td>Medium</td>\n",
       "      <td>Female</td>\n",
       "      <td>Single</td>\n",
       "      <td>Yes</td>\n",
       "    </tr>\n",
       "    <tr>\n",
       "      <th>10</th>\n",
       "      <td>11</td>\n",
       "      <td>&lt;21</td>\n",
       "      <td>Medium</td>\n",
       "      <td>Female</td>\n",
       "      <td>Married</td>\n",
       "      <td>Yes</td>\n",
       "    </tr>\n",
       "    <tr>\n",
       "      <th>11</th>\n",
       "      <td>12</td>\n",
       "      <td>21-35</td>\n",
       "      <td>Medium</td>\n",
       "      <td>Male</td>\n",
       "      <td>Married</td>\n",
       "      <td>Yes</td>\n",
       "    </tr>\n",
       "    <tr>\n",
       "      <th>12</th>\n",
       "      <td>13</td>\n",
       "      <td>21-35</td>\n",
       "      <td>High</td>\n",
       "      <td>Female</td>\n",
       "      <td>Single</td>\n",
       "      <td>Yes</td>\n",
       "    </tr>\n",
       "    <tr>\n",
       "      <th>13</th>\n",
       "      <td>14</td>\n",
       "      <td>&gt;35</td>\n",
       "      <td>Medium</td>\n",
       "      <td>Male</td>\n",
       "      <td>Married</td>\n",
       "      <td>No</td>\n",
       "    </tr>\n",
       "  </tbody>\n",
       "</table>\n",
       "</div>"
      ],
      "text/plain": [
       "    ID   Age   Income  Gender Marital Status Buys\n",
       "0    1    <21    High    Male         Single   No\n",
       "1    2    <21    High    Male        Married   No\n",
       "2    3  21-35    High    Male         Single  Yes\n",
       "3    4    >35  Medium    Male         Single  Yes\n",
       "4    5    >35     Low  Female         Single  Yes\n",
       "5    6    >35     Low  Female        Married   No\n",
       "6    7  21-35     Low  Female        Married  Yes\n",
       "7    8    <21  Medium    Male         Single   No\n",
       "8    9    <21     Low  Female        Married  Yes\n",
       "9   10    >35  Medium  Female         Single  Yes\n",
       "10  11    <21  Medium  Female        Married  Yes\n",
       "11  12  21-35  Medium    Male        Married  Yes\n",
       "12  13  21-35    High  Female         Single  Yes\n",
       "13  14    >35  Medium    Male        Married   No"
      ]
     },
     "execution_count": 3,
     "metadata": {},
     "output_type": "execute_result"
    }
   ],
   "source": [
    "data"
   ]
  },
  {
   "cell_type": "code",
   "execution_count": 4,
   "id": "50ebd50e",
   "metadata": {},
   "outputs": [
    {
     "data": {
      "text/html": [
       "<div>\n",
       "<style scoped>\n",
       "    .dataframe tbody tr th:only-of-type {\n",
       "        vertical-align: middle;\n",
       "    }\n",
       "\n",
       "    .dataframe tbody tr th {\n",
       "        vertical-align: top;\n",
       "    }\n",
       "\n",
       "    .dataframe thead th {\n",
       "        text-align: right;\n",
       "    }\n",
       "</style>\n",
       "<table border=\"1\" class=\"dataframe\">\n",
       "  <thead>\n",
       "    <tr style=\"text-align: right;\">\n",
       "      <th></th>\n",
       "      <th>ID</th>\n",
       "    </tr>\n",
       "  </thead>\n",
       "  <tbody>\n",
       "    <tr>\n",
       "      <th>count</th>\n",
       "      <td>14.0000</td>\n",
       "    </tr>\n",
       "    <tr>\n",
       "      <th>mean</th>\n",
       "      <td>7.5000</td>\n",
       "    </tr>\n",
       "    <tr>\n",
       "      <th>std</th>\n",
       "      <td>4.1833</td>\n",
       "    </tr>\n",
       "    <tr>\n",
       "      <th>min</th>\n",
       "      <td>1.0000</td>\n",
       "    </tr>\n",
       "    <tr>\n",
       "      <th>25%</th>\n",
       "      <td>4.2500</td>\n",
       "    </tr>\n",
       "    <tr>\n",
       "      <th>50%</th>\n",
       "      <td>7.5000</td>\n",
       "    </tr>\n",
       "    <tr>\n",
       "      <th>75%</th>\n",
       "      <td>10.7500</td>\n",
       "    </tr>\n",
       "    <tr>\n",
       "      <th>max</th>\n",
       "      <td>14.0000</td>\n",
       "    </tr>\n",
       "  </tbody>\n",
       "</table>\n",
       "</div>"
      ],
      "text/plain": [
       "            ID\n",
       "count  14.0000\n",
       "mean    7.5000\n",
       "std     4.1833\n",
       "min     1.0000\n",
       "25%     4.2500\n",
       "50%     7.5000\n",
       "75%    10.7500\n",
       "max    14.0000"
      ]
     },
     "execution_count": 4,
     "metadata": {},
     "output_type": "execute_result"
    }
   ],
   "source": [
    "data.describe()"
   ]
  },
  {
   "cell_type": "code",
   "execution_count": 5,
   "id": "2fffd3d0",
   "metadata": {},
   "outputs": [
    {
     "data": {
      "text/plain": [
       "(14, 6)"
      ]
     },
     "execution_count": 5,
     "metadata": {},
     "output_type": "execute_result"
    }
   ],
   "source": [
    "data.shape"
   ]
  },
  {
   "cell_type": "code",
   "execution_count": 6,
   "id": "d387a4db",
   "metadata": {},
   "outputs": [],
   "source": [
    "\n",
    "X=data.iloc[:,:-1]\n",
    "y=data.iloc[:,5].values"
   ]
  },
  {
   "cell_type": "code",
   "execution_count": 7,
   "id": "1449941e",
   "metadata": {},
   "outputs": [],
   "source": []
  },
  {
   "cell_type": "code",
   "execution_count": 8,
   "id": "e0d9a1a6",
   "metadata": {},
   "outputs": [
    {
     "data": {
      "text/plain": [
       "Yes    9\n",
       "No     5\n",
       "Name: Buys, dtype: int64"
      ]
     },
     "execution_count": 8,
     "metadata": {},
     "output_type": "execute_result"
    }
   ],
   "source": [
    "\n",
    "data['Buys'].value_counts()"
   ]
  },
  {
   "cell_type": "code",
   "execution_count": 9,
   "id": "de382826",
   "metadata": {},
   "outputs": [
    {
     "name": "stdout",
     "output_type": "stream",
     "text": [
      "Age with encodd value : [(1, 0), (2, 1), (3, 2), (4, 3), (5, 4), (6, 5), (7, 6), (8, 7), (9, 8), (10, 9), (11, 10), (12, 11), (13, 12), (14, 13)]\n",
      "\n",
      "Income with encoded value : [('<21', 1), ('<21', 1), ('21-35', 0), ('>35', 2), ('>35', 2), ('>35', 2), ('21-35', 0), ('<21', 1), ('<21', 1), ('>35', 2), ('<21', 1), ('21-35', 0), ('21-35', 0), ('>35', 2)]\n",
      "\n",
      "Gender with encoded value : [('High', 0), ('High', 0), ('High', 0), ('Medium', 2), ('Low', 1), ('Low', 1), ('Low', 1), ('Medium', 2), ('Low', 1), ('Medium', 2), ('Medium', 2), ('Medium', 2), ('High', 0), ('Medium', 2)]\n",
      "\n",
      "maritialStatus with encoded value : [('Male', 1), ('Male', 1), ('Male', 1), ('Male', 1), ('Female', 0), ('Female', 0), ('Female', 0), ('Male', 1), ('Female', 0), ('Female', 0), ('Female', 0), ('Male', 1), ('Female', 0), ('Male', 1)]\n"
     ]
    }
   ],
   "source": [
    "from sklearn.preprocessing import LabelEncoder\n",
    "le=LabelEncoder();\n",
    "\n",
    "x=data.iloc[:,:-1] \n",
    "x=x.apply(le.fit_transform)\n",
    "\n",
    "print(\"Age with encodd value :\",list( zip(data.iloc[:,0], x.iloc[:,0])))\n",
    "print(\"\\nIncome with encoded value :\",list( zip(data.iloc[:,1], x.iloc[:,1])))\n",
    "print(\"\\nGender with encoded value :\",list( zip(data.iloc[:,2], x.iloc[:,2])))\n",
    "print(\"\\nmaritialStatus with encoded value :\",list( zip(data.iloc[:,3], x.iloc[:,3])))"
   ]
  },
  {
   "cell_type": "code",
   "execution_count": 10,
   "id": "f9250408",
   "metadata": {},
   "outputs": [],
   "source": [
    "#Store labels in Y\n",
    "y=data.iloc[:,-1]"
   ]
  },
  {
   "cell_type": "code",
   "execution_count": 11,
   "id": "61cde727",
   "metadata": {},
   "outputs": [
    {
     "data": {
      "text/plain": [
       "DecisionTreeClassifier(criterion='entropy')"
      ]
     },
     "execution_count": 11,
     "metadata": {},
     "output_type": "execute_result"
    }
   ],
   "source": [
    "from sklearn.tree import DecisionTreeClassifier\n",
    "classifier=DecisionTreeClassifier(criterion='entropy')\n",
    "classifier.fit(x,y)"
   ]
  },
  {
   "cell_type": "code",
   "execution_count": 12,
   "id": "c9c26e7a",
   "metadata": {},
   "outputs": [
    {
     "name": "stdout",
     "output_type": "stream",
     "text": [
      "Predicted class for input [Age < 21, Income = Low,Gender = Female, Marital Status = Married]\n",
      " [1 1 0 0 0]  is  No\n"
     ]
    }
   ],
   "source": [
    "\n",
    "test_x=np.array([1,1,0,0,0])\n",
    "pred_y=classifier.predict([test_x])\n",
    "print(\"Predicted class for input [Age < 21, Income = Low,Gender = Female, Marital Status = Married]\\n\", test_x,\" is \",pred_y[0])"
   ]
  },
  {
   "cell_type": "code",
   "execution_count": null,
   "id": "e283c063",
   "metadata": {},
   "outputs": [],
   "source": []
  },
  {
   "cell_type": "code",
   "execution_count": 13,
   "id": "a869e97f",
   "metadata": {},
   "outputs": [],
   "source": [
    "Buys = []\n",
    "for i in range(0, 14):\n",
    "     Buys.append([str(data.values[i,j]) for j in range(0, 6)])"
   ]
  },
  {
   "cell_type": "code",
   "execution_count": 14,
   "id": "51684167",
   "metadata": {},
   "outputs": [
    {
     "ename": "TypeError",
     "evalue": "apriori() missing 1 required positional argument: 'transactions'",
     "output_type": "error",
     "traceback": [
      "\u001b[1;31m---------------------------------------------------------------------------\u001b[0m",
      "\u001b[1;31mTypeError\u001b[0m                                 Traceback (most recent call last)",
      "\u001b[1;32m~\\AppData\\Local\\Temp/ipykernel_44068/995195298.py\u001b[0m in \u001b[0;36m<module>\u001b[1;34m\u001b[0m\n\u001b[0;32m      1\u001b[0m \u001b[1;31m#Apply Training Model: Apriori Algorithm\u001b[0m\u001b[1;33m\u001b[0m\u001b[1;33m\u001b[0m\u001b[0m\n\u001b[0;32m      2\u001b[0m \u001b[1;32mfrom\u001b[0m \u001b[0mapyori\u001b[0m \u001b[1;32mimport\u001b[0m \u001b[0mapriori\u001b[0m\u001b[1;33m\u001b[0m\u001b[1;33m\u001b[0m\u001b[0m\n\u001b[1;32m----> 3\u001b[1;33m \u001b[0mrules\u001b[0m\u001b[1;33m=\u001b[0m\u001b[0mapriori\u001b[0m\u001b[1;33m(\u001b[0m\u001b[0mBuys\u001b[0m\u001b[1;33m=\u001b[0m\u001b[0mBuys\u001b[0m\u001b[1;33m,\u001b[0m \u001b[0mmin_support\u001b[0m \u001b[1;33m=\u001b[0m \u001b[1;36m0.003\u001b[0m\u001b[1;33m,\u001b[0m \u001b[0mmin_confidence\u001b[0m \u001b[1;33m=\u001b[0m \u001b[1;36m0.2\u001b[0m\u001b[1;33m,\u001b[0m \u001b[0mmin_lift\u001b[0m \u001b[1;33m=\u001b[0m \u001b[1;36m3\u001b[0m\u001b[1;33m,\u001b[0m \u001b[0mmin_length\u001b[0m\u001b[1;33m=\u001b[0m\u001b[1;36m2\u001b[0m\u001b[1;33m,\u001b[0m \u001b[0mmax_length\u001b[0m\u001b[1;33m=\u001b[0m\u001b[1;36m2\u001b[0m\u001b[1;33m)\u001b[0m\u001b[1;33m\u001b[0m\u001b[1;33m\u001b[0m\u001b[0m\n\u001b[0m",
      "\u001b[1;31mTypeError\u001b[0m: apriori() missing 1 required positional argument: 'transactions'"
     ]
    }
   ],
   "source": [
    "\n",
    "from apyori import apriori\n",
    "rules=apriori(Buys=Buys, min_support = 0.003, min_confidence = 0.2, min_lift = 3, min_length=2, max_length=2)"
   ]
  },
  {
   "cell_type": "code",
   "execution_count": null,
   "id": "6a76be9f",
   "metadata": {},
   "outputs": [],
   "source": [
    "from matplotlib import pyplot as plt\n",
    "\n",
    "from sklearn.tree import DecisionTreeClassifier \n",
    "from sklearn import tree"
   ]
  },
  {
   "cell_type": "code",
   "execution_count": null,
   "id": "9668284e",
   "metadata": {},
   "outputs": [],
   "source": [
    "\n",
    "clf = DecisionTreeClassifier(random_state=1234)\n",
    "model = clf.fit(X, y)"
   ]
  },
  {
   "cell_type": "code",
   "execution_count": null,
   "id": "beac2653",
   "metadata": {},
   "outputs": [],
   "source": [
    "fig = plt.figure(figsize=(5,10))\n",
    "export_DecisionTreeClassifier,out_file=(\"data.dot\",feature_names=x.columns,class_names=[\"No\",\"Yes\"],filled=True)"
   ]
  },
  {
   "cell_type": "code",
   "execution_count": null,
   "id": "df6a21f9",
   "metadata": {},
   "outputs": [],
   "source": []
  }
 ],
 "metadata": {
  "kernelspec": {
   "display_name": "Python 3 (ipykernel)",
   "language": "python",
   "name": "python3"
  },
  "language_info": {
   "codemirror_mode": {
    "name": "ipython",
    "version": 3
   },
   "file_extension": ".py",
   "mimetype": "text/x-python",
   "name": "python",
   "nbconvert_exporter": "python",
   "pygments_lexer": "ipython3",
   "version": "3.9.7"
  }
 },
 "nbformat": 4,
 "nbformat_minor": 5
}
